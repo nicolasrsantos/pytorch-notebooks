{
 "cells": [
  {
   "cell_type": "code",
   "execution_count": null,
   "metadata": {},
   "outputs": [],
   "source": [
    "import torch\n",
    "import torch.nn as nn\n",
    "import torch.nn.functional as F\n",
    "from torch_geometric.nn import GCNConv\n",
    "from torch_geometric.datasets import Planetoid\n",
    "\n",
    "device = torch.device(\"cuda:0\" if torch.cuda.is_available() else \"cpu\")"
   ]
  },
  {
   "cell_type": "code",
   "execution_count": null,
   "metadata": {
    "scrolled": false
   },
   "outputs": [],
   "source": [
    "data_dir = \"~/tmp/data\"\n",
    "cora = Planetoid(root=data_dir, name=\"Cora\")\n",
    "\n",
    "print(f\"Number of classes: {cora.num_classes}\")\n",
    "print(f\"Number of features: {cora.num_features}\")\n",
    "print(f\"Number of nodes: {cora.data.num_nodes}\")\n",
    "print(f\"Number of edges: {cora.data.num_edges}\")\n",
    "print(f\"Training nodes: {cora.data.train_mask.sum()}\")\n",
    "print(f\"Val nodes: {cora.data.val_mask.sum()}\")\n",
    "print(f\"Test nodes: {cora.data.test_mask.sum()}\")"
   ]
  },
  {
   "cell_type": "code",
   "execution_count": null,
   "metadata": {
    "scrolled": true
   },
   "outputs": [],
   "source": [
    "print(cora.data.y[0])\n",
    "print(cora.data.x.shape)\n",
    "print(cora.data.train_mask)"
   ]
  },
  {
   "cell_type": "code",
   "execution_count": null,
   "metadata": {},
   "outputs": [],
   "source": [
    "class GCN(nn.Module):\n",
    "    def __init__(self):\n",
    "        super(GCN, self).__init__()\n",
    "        torch.manual_seed(12345)\n",
    "        self.conv1 = GCNConv(cora.num_features, 128)\n",
    "        self.conv2 = GCNConv(128, 32)\n",
    "        self.conv3 = GCNConv(32, cora.num_classes)\n",
    "                \n",
    "    def forward(self, h, edge_index):\n",
    "        h = self.conv1(h, edge_index)\n",
    "        h = h.relu()\n",
    "        h = F.dropout(h, p=0.5, training=self.training)\n",
    "        h = self.conv2(h, edge_index)\n",
    "        h = h.relu()\n",
    "        h = F.dropout(h, p=0.5, training=self.training)\n",
    "        h = self.conv3(h, edge_index)\n",
    "        \n",
    "        return h"
   ]
  },
  {
   "cell_type": "code",
   "execution_count": null,
   "metadata": {},
   "outputs": [],
   "source": [
    "def train(model, data, epochs, epoch_log, criterion, optimizer):\n",
    "    for epoch in range(epochs):\n",
    "        model.train()\n",
    "        optimizer.zero_grad()\n",
    "        out = model(data.x, data.edge_index)\n",
    "        loss = criterion(out[data.train_mask], data.y[data.train_mask])\n",
    "        loss.backward()\n",
    "        optimizer.step()\n",
    "        \n",
    "        with torch.no_grad():\n",
    "            model.eval()\n",
    "            val_loss = criterion(out[data.val_mask], data.y[data.val_mask])\n",
    "                    \n",
    "        if epoch % epoch_log == 0:\n",
    "            print(f\"epoch {epoch} - train loss: {loss} - val loss: {val_loss}\")\n",
    "            \n",
    "def test(model, data):\n",
    "    model.eval()\n",
    "    out = model(data.x, data.edge_index)\n",
    "    pred = out.argmax(dim=1)\n",
    "    results = (pred[data.test_mask] == data.y[data.test_mask]).sum()\n",
    "    acc = results / data.test_mask.sum()\n",
    "    print(acc)"
   ]
  },
  {
   "cell_type": "code",
   "execution_count": null,
   "metadata": {},
   "outputs": [],
   "source": [
    "epochs = 1000\n",
    "epoch_log = 10\n",
    "weight_decay = 5e-3\n",
    "lr = 0.0001\n",
    "criterion = nn.CrossEntropyLoss()\n",
    "\n",
    "model = GCN().to(device)\n",
    "data = cora.data.to(device)\n",
    "optimizer = torch.optim.Adam(model.parameters(), lr=lr, weight_decay=weight_decay)"
   ]
  },
  {
   "cell_type": "code",
   "execution_count": null,
   "metadata": {
    "scrolled": true
   },
   "outputs": [],
   "source": [
    "print(f\"Using {device} to train.\")\n",
    "train(model, data, epochs, epoch_log, criterion, optimizer)"
   ]
  },
  {
   "cell_type": "code",
   "execution_count": null,
   "metadata": {},
   "outputs": [],
   "source": [
    "test(model, data)"
   ]
  }
 ],
 "metadata": {
  "kernelspec": {
   "display_name": "Python 3",
   "language": "python",
   "name": "python3"
  },
  "language_info": {
   "codemirror_mode": {
    "name": "ipython",
    "version": 3
   },
   "file_extension": ".py",
   "mimetype": "text/x-python",
   "name": "python",
   "nbconvert_exporter": "python",
   "pygments_lexer": "ipython3",
   "version": "3.8.10"
  }
 },
 "nbformat": 4,
 "nbformat_minor": 4
}
